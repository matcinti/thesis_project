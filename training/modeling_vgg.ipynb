{
 "cells": [
  {
   "cell_type": "markdown",
   "id": "61373bc7",
   "metadata": {},
   "source": [
    "# COX REGRESSION (sklearn adapter)"
   ]
  },
  {
   "cell_type": "code",
   "execution_count": 25,
   "id": "9874e015",
   "metadata": {},
   "outputs": [
    {
     "data": {
      "text/plain": [
       "((102, 4097), (102, 3))"
      ]
     },
     "execution_count": 25,
     "metadata": {},
     "output_type": "execute_result"
    }
   ],
   "source": [
    "# Step 1: get all prerand patients\n",
    "import pandas as pd\n",
    "\n",
    "vgg_df = pd.read_excel(\"vgg_final.xlsx\", engine='openpyxl')\n",
    "target_df = pd.read_excel(\"vgg_labels.xlsx\", engine='openpyxl')\n",
    "\n",
    "merged_df = pd.merge(vgg_df, target_df, on='PP')\n",
    "merged_df = merged_df.set_index('PP')\n",
    "vgg_df.shape, target_df.shape"
   ]
  },
  {
   "cell_type": "markdown",
   "id": "dfb1ffc8",
   "metadata": {},
   "source": [
    "## Modeling with Train and Test splits"
   ]
  },
  {
   "cell_type": "markdown",
   "id": "2b562acf",
   "metadata": {},
   "source": [
    "### variance threshold, scaling, pca"
   ]
  },
  {
   "cell_type": "markdown",
   "id": "0602041b",
   "metadata": {},
   "source": [
    "#### repeated cross validation"
   ]
  },
  {
   "cell_type": "code",
   "execution_count": 26,
   "id": "79b0c942",
   "metadata": {},
   "outputs": [
    {
     "name": "stdout",
     "output_type": "stream",
     "text": [
      "--- Repeat: 1 ---\n",
      "Fold: 1\n",
      "Score: 0.6192170818505338\n",
      "-----------------------------\n",
      "Fold: 2\n"
     ]
    },
    {
     "name": "stderr",
     "output_type": "stream",
     "text": [
      "C:\\Users\\mcintioli\\AppData\\Local\\anaconda3\\envs\\thesis\\lib\\site-packages\\lifelines\\fitters\\coxph_fitter.py:1611: ConvergenceWarning: Newton-Rhaphson failed to converge sufficiently. Please see the following tips in the lifelines documentation: https://lifelines.readthedocs.io/en/latest/Examples.html#problems-with-convergence-in-the-cox-proportional-hazard-model\n",
      "  warnings.warn(\n"
     ]
    },
    {
     "name": "stdout",
     "output_type": "stream",
     "text": [
      "Score: 0.7541666666666667\n",
      "-----------------------------\n",
      "Fold: 3\n"
     ]
    },
    {
     "name": "stderr",
     "output_type": "stream",
     "text": [
      "C:\\Users\\mcintioli\\AppData\\Local\\anaconda3\\envs\\thesis\\lib\\site-packages\\lifelines\\fitters\\coxph_fitter.py:1611: ConvergenceWarning: Newton-Rhaphson failed to converge sufficiently. Please see the following tips in the lifelines documentation: https://lifelines.readthedocs.io/en/latest/Examples.html#problems-with-convergence-in-the-cox-proportional-hazard-model\n",
      "  warnings.warn(\n"
     ]
    },
    {
     "name": "stdout",
     "output_type": "stream",
     "text": [
      "Score: 0.4927536231884058\n",
      "-----------------------------\n",
      "Fold: 4\n",
      "Score: 0.5901060070671378\n",
      "-----------------------------\n",
      "--- Repeat: 2 ---\n",
      "Fold: 1\n",
      "Score: 0.6328502415458938\n",
      "-----------------------------\n",
      "Fold: 2\n"
     ]
    },
    {
     "name": "stderr",
     "output_type": "stream",
     "text": [
      "C:\\Users\\mcintioli\\AppData\\Local\\anaconda3\\envs\\thesis\\lib\\site-packages\\lifelines\\fitters\\coxph_fitter.py:1611: ConvergenceWarning: Newton-Rhaphson failed to converge sufficiently. Please see the following tips in the lifelines documentation: https://lifelines.readthedocs.io/en/latest/Examples.html#problems-with-convergence-in-the-cox-proportional-hazard-model\n",
      "  warnings.warn(\n"
     ]
    },
    {
     "name": "stdout",
     "output_type": "stream",
     "text": [
      "Score: 0.6408450704225352\n",
      "-----------------------------\n",
      "Fold: 3\n"
     ]
    },
    {
     "name": "stderr",
     "output_type": "stream",
     "text": [
      "C:\\Users\\mcintioli\\AppData\\Local\\anaconda3\\envs\\thesis\\lib\\site-packages\\lifelines\\fitters\\coxph_fitter.py:1611: ConvergenceWarning: Newton-Rhaphson failed to converge sufficiently. Please see the following tips in the lifelines documentation: https://lifelines.readthedocs.io/en/latest/Examples.html#problems-with-convergence-in-the-cox-proportional-hazard-model\n",
      "  warnings.warn(\n"
     ]
    },
    {
     "name": "stdout",
     "output_type": "stream",
     "text": [
      "Score: 0.5555555555555556\n",
      "-----------------------------\n",
      "Fold: 4\n"
     ]
    },
    {
     "name": "stderr",
     "output_type": "stream",
     "text": [
      "C:\\Users\\mcintioli\\AppData\\Local\\anaconda3\\envs\\thesis\\lib\\site-packages\\lifelines\\fitters\\coxph_fitter.py:1611: ConvergenceWarning: Newton-Rhaphson failed to converge sufficiently. Please see the following tips in the lifelines documentation: https://lifelines.readthedocs.io/en/latest/Examples.html#problems-with-convergence-in-the-cox-proportional-hazard-model\n",
      "  warnings.warn(\n"
     ]
    },
    {
     "name": "stdout",
     "output_type": "stream",
     "text": [
      "Score: 0.647887323943662\n",
      "-----------------------------\n",
      "--- Repeat: 3 ---\n",
      "Fold: 1\n",
      "Score: 0.447098976109215\n",
      "-----------------------------\n",
      "Fold: 2\n"
     ]
    },
    {
     "name": "stderr",
     "output_type": "stream",
     "text": [
      "C:\\Users\\mcintioli\\AppData\\Local\\anaconda3\\envs\\thesis\\lib\\site-packages\\lifelines\\fitters\\coxph_fitter.py:1611: ConvergenceWarning: Newton-Rhaphson failed to converge sufficiently. Please see the following tips in the lifelines documentation: https://lifelines.readthedocs.io/en/latest/Examples.html#problems-with-convergence-in-the-cox-proportional-hazard-model\n",
      "  warnings.warn(\n"
     ]
    },
    {
     "name": "stdout",
     "output_type": "stream",
     "text": [
      "Score: 0.6357615894039735\n",
      "-----------------------------\n",
      "Fold: 3\n",
      "Score: 0.684\n",
      "-----------------------------\n",
      "Fold: 4\n"
     ]
    },
    {
     "name": "stderr",
     "output_type": "stream",
     "text": [
      "C:\\Users\\mcintioli\\AppData\\Local\\anaconda3\\envs\\thesis\\lib\\site-packages\\lifelines\\fitters\\coxph_fitter.py:1611: ConvergenceWarning: Newton-Rhaphson failed to converge sufficiently. Please see the following tips in the lifelines documentation: https://lifelines.readthedocs.io/en/latest/Examples.html#problems-with-convergence-in-the-cox-proportional-hazard-model\n",
      "  warnings.warn(\n"
     ]
    },
    {
     "name": "stdout",
     "output_type": "stream",
     "text": [
      "Score: 0.5731225296442688\n",
      "-----------------------------\n",
      "--- Repeat: 4 ---\n",
      "Fold: 1\n",
      "Score: 0.6711864406779661\n",
      "-----------------------------\n",
      "Fold: 2\n"
     ]
    },
    {
     "name": "stderr",
     "output_type": "stream",
     "text": [
      "C:\\Users\\mcintioli\\AppData\\Local\\anaconda3\\envs\\thesis\\lib\\site-packages\\lifelines\\fitters\\coxph_fitter.py:1611: ConvergenceWarning: Newton-Rhaphson failed to converge sufficiently. Please see the following tips in the lifelines documentation: https://lifelines.readthedocs.io/en/latest/Examples.html#problems-with-convergence-in-the-cox-proportional-hazard-model\n",
      "  warnings.warn(\n"
     ]
    },
    {
     "name": "stdout",
     "output_type": "stream",
     "text": [
      "Score: 0.5223367697594502\n",
      "-----------------------------\n",
      "Fold: 3\n"
     ]
    },
    {
     "name": "stderr",
     "output_type": "stream",
     "text": [
      "C:\\Users\\mcintioli\\AppData\\Local\\anaconda3\\envs\\thesis\\lib\\site-packages\\lifelines\\fitters\\coxph_fitter.py:1611: ConvergenceWarning: Newton-Rhaphson failed to converge sufficiently. Please see the following tips in the lifelines documentation: https://lifelines.readthedocs.io/en/latest/Examples.html#problems-with-convergence-in-the-cox-proportional-hazard-model\n",
      "  warnings.warn(\n"
     ]
    },
    {
     "name": "stdout",
     "output_type": "stream",
     "text": [
      "Score: 0.6615384615384615\n",
      "-----------------------------\n",
      "Fold: 4\n",
      "Score: 0.5910931174089069\n",
      "-----------------------------\n",
      "--- Repeat: 5 ---\n",
      "Fold: 1\n",
      "Score: 0.504885993485342\n",
      "-----------------------------\n",
      "Fold: 2\n",
      "Score: 0.5166666666666667\n",
      "-----------------------------\n",
      "Fold: 3\n",
      "Score: 0.604\n",
      "-----------------------------\n",
      "Fold: 4\n",
      "Score: 0.6785714285714286\n",
      "-----------------------------\n",
      "--- Repeat: 6 ---\n",
      "Fold: 1\n"
     ]
    },
    {
     "name": "stderr",
     "output_type": "stream",
     "text": [
      "C:\\Users\\mcintioli\\AppData\\Local\\anaconda3\\envs\\thesis\\lib\\site-packages\\lifelines\\fitters\\coxph_fitter.py:1611: ConvergenceWarning: Newton-Rhaphson failed to converge sufficiently. Please see the following tips in the lifelines documentation: https://lifelines.readthedocs.io/en/latest/Examples.html#problems-with-convergence-in-the-cox-proportional-hazard-model\n",
      "  warnings.warn(\n"
     ]
    },
    {
     "name": "stdout",
     "output_type": "stream",
     "text": [
      "Score: 0.6779026217228464\n",
      "-----------------------------\n",
      "Fold: 2\n",
      "Score: 0.5949820788530465\n",
      "-----------------------------\n",
      "Fold: 3\n",
      "Score: 0.50390625\n",
      "-----------------------------\n",
      "Fold: 4\n",
      "Score: 0.5878136200716846\n",
      "-----------------------------\n",
      "--- Repeat: 7 ---\n",
      "Fold: 1\n",
      "Score: 0.5709459459459459\n",
      "-----------------------------\n",
      "Fold: 2\n"
     ]
    },
    {
     "name": "stderr",
     "output_type": "stream",
     "text": [
      "C:\\Users\\mcintioli\\AppData\\Local\\anaconda3\\envs\\thesis\\lib\\site-packages\\lifelines\\fitters\\coxph_fitter.py:1611: ConvergenceWarning: Newton-Rhaphson failed to converge sufficiently. Please see the following tips in the lifelines documentation: https://lifelines.readthedocs.io/en/latest/Examples.html#problems-with-convergence-in-the-cox-proportional-hazard-model\n",
      "  warnings.warn(\n"
     ]
    },
    {
     "name": "stdout",
     "output_type": "stream",
     "text": [
      "Score: 0.6593959731543624\n",
      "-----------------------------\n",
      "Fold: 3\n",
      "Score: 0.6883116883116883\n",
      "-----------------------------\n",
      "Fold: 4\n",
      "Score: 0.5227272727272727\n",
      "-----------------------------\n",
      "--- Repeat: 8 ---\n",
      "Fold: 1\n",
      "Score: 0.5945945945945946\n",
      "-----------------------------\n",
      "Fold: 2\n"
     ]
    },
    {
     "name": "stderr",
     "output_type": "stream",
     "text": [
      "C:\\Users\\mcintioli\\AppData\\Local\\anaconda3\\envs\\thesis\\lib\\site-packages\\lifelines\\fitters\\coxph_fitter.py:1611: ConvergenceWarning: Newton-Rhaphson failed to converge sufficiently. Please see the following tips in the lifelines documentation: https://lifelines.readthedocs.io/en/latest/Examples.html#problems-with-convergence-in-the-cox-proportional-hazard-model\n",
      "  warnings.warn(\n"
     ]
    },
    {
     "name": "stdout",
     "output_type": "stream",
     "text": [
      "Score: 0.6153846153846154\n",
      "-----------------------------\n",
      "Fold: 3\n"
     ]
    },
    {
     "name": "stderr",
     "output_type": "stream",
     "text": [
      "C:\\Users\\mcintioli\\AppData\\Local\\anaconda3\\envs\\thesis\\lib\\site-packages\\lifelines\\fitters\\coxph_fitter.py:1611: ConvergenceWarning: Newton-Rhaphson failed to converge sufficiently. Please see the following tips in the lifelines documentation: https://lifelines.readthedocs.io/en/latest/Examples.html#problems-with-convergence-in-the-cox-proportional-hazard-model\n",
      "  warnings.warn(\n"
     ]
    },
    {
     "name": "stdout",
     "output_type": "stream",
     "text": [
      "Score: 0.6371308016877637\n",
      "-----------------------------\n",
      "Fold: 4\n",
      "Score: 0.6039215686274509\n",
      "-----------------------------\n",
      "--- Repeat: 9 ---\n",
      "Fold: 1\n",
      "Score: 0.55893536121673\n",
      "-----------------------------\n",
      "Fold: 2\n"
     ]
    },
    {
     "name": "stderr",
     "output_type": "stream",
     "text": [
      "C:\\Users\\mcintioli\\AppData\\Local\\anaconda3\\envs\\thesis\\lib\\site-packages\\lifelines\\fitters\\coxph_fitter.py:1611: ConvergenceWarning: Newton-Rhaphson failed to converge sufficiently. Please see the following tips in the lifelines documentation: https://lifelines.readthedocs.io/en/latest/Examples.html#problems-with-convergence-in-the-cox-proportional-hazard-model\n",
      "  warnings.warn(\n"
     ]
    },
    {
     "name": "stdout",
     "output_type": "stream",
     "text": [
      "Score: 0.565359477124183\n",
      "-----------------------------\n",
      "Fold: 3\n",
      "Score: 0.3916349809885932\n",
      "-----------------------------\n",
      "Fold: 4\n",
      "Score: 0.5419847328244275\n",
      "-----------------------------\n",
      "--- Repeat: 10 ---\n",
      "Fold: 1\n",
      "Score: 0.6749116607773852\n",
      "-----------------------------\n",
      "Fold: 2\n",
      "Score: 0.5372549019607843\n",
      "-----------------------------\n",
      "Fold: 3\n"
     ]
    },
    {
     "name": "stderr",
     "output_type": "stream",
     "text": [
      "C:\\Users\\mcintioli\\AppData\\Local\\anaconda3\\envs\\thesis\\lib\\site-packages\\lifelines\\fitters\\coxph_fitter.py:1611: ConvergenceWarning: Newton-Rhaphson failed to converge sufficiently. Please see the following tips in the lifelines documentation: https://lifelines.readthedocs.io/en/latest/Examples.html#problems-with-convergence-in-the-cox-proportional-hazard-model\n",
      "  warnings.warn(\n"
     ]
    },
    {
     "name": "stdout",
     "output_type": "stream",
     "text": [
      "Score: 0.5977443609022557\n",
      "-----------------------------\n",
      "Fold: 4\n",
      "Score: 0.5035460992907801\n",
      "-----------------------------\n",
      "Mean Score: 0.591300803741812\n"
     ]
    },
    {
     "name": "stderr",
     "output_type": "stream",
     "text": [
      "C:\\Users\\mcintioli\\AppData\\Local\\anaconda3\\envs\\thesis\\lib\\site-packages\\lifelines\\fitters\\coxph_fitter.py:1611: ConvergenceWarning: Newton-Rhaphson failed to converge sufficiently. Please see the following tips in the lifelines documentation: https://lifelines.readthedocs.io/en/latest/Examples.html#problems-with-convergence-in-the-cox-proportional-hazard-model\n",
      "  warnings.warn(\n"
     ]
    }
   ],
   "source": [
    "import numpy as np\n",
    "import pandas as pd\n",
    "from sklearn.preprocessing import StandardScaler\n",
    "from lifelines.utils.sklearn_adapter import sklearn_adapter\n",
    "from lifelines import CoxPHFitter\n",
    "from sklearn.decomposition import PCA\n",
    "from sklearn.feature_selection import VarianceThreshold\n",
    "\n",
    "X = merged_df.drop('Duration', axis=1)  # keep as a dataframe\n",
    "y = merged_df['Duration']\n",
    "\n",
    "# Define the number of folds and repeats, and an empty list to store the scores\n",
    "num_folds = 4\n",
    "num_repeats = 10\n",
    "scores = []\n",
    "\n",
    "for r in range(num_repeats):\n",
    "    print(f\"--- Repeat: {r + 1} ---\")\n",
    "    \n",
    "    # Generate indices for splits\n",
    "    np.random.seed(r)  # change the seed for each repeat\n",
    "    indices = np.arange(len(X))\n",
    "    np.random.shuffle(indices)\n",
    "    fold_sizes = (len(X) // num_folds) * np.ones(num_folds, dtype=int)  # equally divide indices\n",
    "    fold_sizes[:len(X) % num_folds] += 1  # if len(X) is not exactly divisible by num_folds, assign remainder to first few\n",
    "\n",
    "    current = 0\n",
    "    splits = []\n",
    "    for fold_size in fold_sizes:\n",
    "        start, stop = current, current + fold_size\n",
    "        splits.append((indices[start:stop], np.concatenate((indices[:start], indices[stop:]))))  # (test, train)\n",
    "        current = stop\n",
    "\n",
    "    # Perform cross-validation\n",
    "    for i, (test_idx, train_idx) in enumerate(splits):\n",
    "        print(f\"Fold: {i + 1}\")\n",
    "        \n",
    "        X_train, X_test = X.iloc[train_idx], X.iloc[test_idx]\n",
    "        y_train, y_test = y.iloc[train_idx], y.iloc[test_idx]\n",
    "        \n",
    "        # Drop 'Event' column\n",
    "        X_train_new = X_train.drop('Event', axis=1)\n",
    "        X_test_new = X_test.drop('Event', axis=1)\n",
    "        \n",
    "        # Scale the data\n",
    "        scaler = StandardScaler()\n",
    "        X_train_new = scaler.fit_transform(X_train_new)\n",
    "        X_test_new = scaler.transform(X_test_new)\n",
    "        \n",
    "        # Perform PCA\n",
    "        pca = PCA(n_components=24)\n",
    "        X_train_new = pca.fit_transform(X_train_new)\n",
    "        X_test_new = pca.transform(X_test_new)\n",
    "        \n",
    "        # Convert back to DataFrame\n",
    "        X_train_new = pd.DataFrame(X_train_new)\n",
    "        X_test_new = pd.DataFrame(X_test_new)\n",
    "        \n",
    "        # Add back indices\n",
    "        X_train_new.index = X_train.index\n",
    "        X_test_new.index = X_test.index\n",
    "        \n",
    "        # Add 'Event' column back\n",
    "        X_train_new['Event'] = X_train['Event']\n",
    "        X_test_new['Event'] = X_test['Event']\n",
    "        \n",
    "        # Instantiate CoxRegression object\n",
    "        CoxRegression = sklearn_adapter(CoxPHFitter, event_col='Event')\n",
    "        sk_cph = CoxRegression(penalizer=1e-5)\n",
    "        sk_cph.fit(X_train_new, y_train)\n",
    "        \n",
    "        # Calculate and store the score\n",
    "        score = sk_cph.score(X_test_new, y_test)\n",
    "        scores.append(score)\n",
    "\n",
    "        print(f\"Score: {score}\")\n",
    "        print(\"-----------------------------\")\n",
    "\n",
    "# Calculate mean\n",
    "mean_score = np.mean(scores)\n",
    "\n",
    "print(f\"Mean Score: {mean_score}\")"
   ]
  },
  {
   "cell_type": "markdown",
   "id": "58b07505",
   "metadata": {},
   "source": [
    "# Random Forest Survival"
   ]
  },
  {
   "cell_type": "markdown",
   "id": "8f71375a",
   "metadata": {},
   "source": [
    "#### 10 different cv with 5 folds"
   ]
  },
  {
   "cell_type": "code",
   "execution_count": 27,
   "id": "23afb21e",
   "metadata": {},
   "outputs": [
    {
     "name": "stdout",
     "output_type": "stream",
     "text": [
      "Fold: 1, Repeat: 1\n",
      "Score: 0.5912408759124088\n",
      "-----------------------------\n",
      "Fold: 2, Repeat: 1\n",
      "Score: 0.6097560975609756\n",
      "-----------------------------\n",
      "Fold: 3, Repeat: 1\n",
      "Score: 0.46368715083798884\n",
      "-----------------------------\n",
      "Fold: 4, Repeat: 1\n",
      "Score: 0.4519774011299435\n",
      "-----------------------------\n",
      "Fold: 5, Repeat: 1\n",
      "Score: 0.6666666666666666\n",
      "-----------------------------\n",
      "Fold: 1, Repeat: 2\n",
      "Score: 0.485\n",
      "-----------------------------\n",
      "Fold: 2, Repeat: 2\n",
      "Score: 0.5487804878048781\n",
      "-----------------------------\n",
      "Fold: 3, Repeat: 2\n",
      "Score: 0.5611111111111111\n",
      "-----------------------------\n",
      "Fold: 4, Repeat: 2\n",
      "Score: 0.5471698113207547\n",
      "-----------------------------\n",
      "Fold: 5, Repeat: 2\n",
      "Score: 0.41721854304635764\n",
      "-----------------------------\n",
      "Fold: 1, Repeat: 3\n",
      "Score: 0.6228070175438597\n",
      "-----------------------------\n",
      "Fold: 2, Repeat: 3\n",
      "Score: 0.6410256410256411\n",
      "-----------------------------\n",
      "Fold: 3, Repeat: 3\n",
      "Score: 0.5054945054945055\n",
      "-----------------------------\n",
      "Fold: 4, Repeat: 3\n",
      "Score: 0.5454545454545454\n",
      "-----------------------------\n",
      "Fold: 5, Repeat: 3\n",
      "Score: 0.5638297872340425\n",
      "-----------------------------\n",
      "Fold: 1, Repeat: 4\n",
      "Score: 0.4808743169398907\n",
      "-----------------------------\n",
      "Fold: 2, Repeat: 4\n",
      "Score: 0.6827956989247311\n",
      "-----------------------------\n",
      "Fold: 3, Repeat: 4\n",
      "Score: 0.6040268456375839\n",
      "-----------------------------\n",
      "Fold: 4, Repeat: 4\n",
      "Score: 0.6607142857142857\n",
      "-----------------------------\n",
      "Fold: 5, Repeat: 4\n",
      "Score: 0.6111111111111112\n",
      "-----------------------------\n",
      "Fold: 1, Repeat: 5\n",
      "Score: 0.5735294117647058\n",
      "-----------------------------\n",
      "Fold: 2, Repeat: 5\n",
      "Score: 0.6\n",
      "-----------------------------\n",
      "Fold: 3, Repeat: 5\n",
      "Score: 0.6470588235294118\n",
      "-----------------------------\n",
      "Fold: 4, Repeat: 5\n",
      "Score: 0.5590062111801242\n",
      "-----------------------------\n",
      "Fold: 5, Repeat: 5\n",
      "Score: 0.5853658536585366\n",
      "-----------------------------\n",
      "Fold: 1, Repeat: 6\n",
      "Score: 0.6\n",
      "-----------------------------\n",
      "Fold: 2, Repeat: 6\n",
      "Score: 0.546875\n",
      "-----------------------------\n",
      "Fold: 3, Repeat: 6\n",
      "Score: 0.51875\n",
      "-----------------------------\n",
      "Fold: 4, Repeat: 6\n",
      "Score: 0.5316455696202531\n",
      "-----------------------------\n",
      "Fold: 5, Repeat: 6\n",
      "Score: 0.367816091954023\n",
      "-----------------------------\n",
      "Fold: 1, Repeat: 7\n",
      "Score: 0.5404040404040404\n",
      "-----------------------------\n",
      "Fold: 2, Repeat: 7\n",
      "Score: 0.576271186440678\n",
      "-----------------------------\n",
      "Fold: 3, Repeat: 7\n",
      "Score: 0.7192982456140351\n",
      "-----------------------------\n",
      "Fold: 4, Repeat: 7\n",
      "Score: 0.3546099290780142\n",
      "-----------------------------\n",
      "Fold: 5, Repeat: 7\n",
      "Score: 0.6573033707865169\n",
      "-----------------------------\n",
      "Fold: 1, Repeat: 8\n",
      "Score: 0.5561797752808989\n",
      "-----------------------------\n",
      "Fold: 2, Repeat: 8\n",
      "Score: 0.5343915343915344\n",
      "-----------------------------\n",
      "Fold: 3, Repeat: 8\n",
      "Score: 0.5483870967741935\n",
      "-----------------------------\n",
      "Fold: 4, Repeat: 8\n",
      "Score: 0.6375838926174496\n",
      "-----------------------------\n",
      "Fold: 5, Repeat: 8\n",
      "Score: 0.6687898089171974\n",
      "-----------------------------\n",
      "Fold: 1, Repeat: 9\n",
      "Score: 0.5272727272727272\n",
      "-----------------------------\n",
      "Fold: 2, Repeat: 9\n",
      "Score: 0.53125\n",
      "-----------------------------\n",
      "Fold: 3, Repeat: 9\n",
      "Score: 0.6766467065868264\n",
      "-----------------------------\n",
      "Fold: 4, Repeat: 9\n",
      "Score: 0.5246913580246914\n",
      "-----------------------------\n",
      "Fold: 5, Repeat: 9\n",
      "Score: 0.5028571428571429\n",
      "-----------------------------\n",
      "Fold: 1, Repeat: 10\n",
      "Score: 0.56\n",
      "-----------------------------\n",
      "Fold: 2, Repeat: 10\n",
      "Score: 0.4497354497354497\n",
      "-----------------------------\n",
      "Fold: 3, Repeat: 10\n",
      "Score: 0.51875\n",
      "-----------------------------\n",
      "Fold: 4, Repeat: 10\n",
      "Score: 0.5985401459854015\n",
      "-----------------------------\n",
      "Fold: 5, Repeat: 10\n",
      "Score: 0.5706214689265536\n",
      "-----------------------------\n",
      "Mean Score: 0.5608874548374339\n"
     ]
    }
   ],
   "source": [
    "import numpy as np\n",
    "from sklearn.model_selection import RepeatedKFold\n",
    "from sklearn.preprocessing import StandardScaler\n",
    "from sklearn.feature_selection import VarianceThreshold\n",
    "from sksurv.ensemble import RandomSurvivalForest\n",
    "from sklearn.decomposition import PCA\n",
    "\n",
    "X = merged_df.drop(['Duration', 'Event'], axis=1)  # keep as a dataframe\n",
    "y = merged_df[['Event','Duration']]\n",
    "\n",
    "#change y to array of tuples (Event, Duration)\n",
    "y = np.array([(bool(arr[0]), arr[1]) for arr in y.values], dtype=[('boolean', bool), ('integer', int)])\n",
    "\n",
    "# Define the number of folds, repeats and an empty list to store the scores\n",
    "num_folds = 5\n",
    "num_repeats = 10\n",
    "scores = []\n",
    "\n",
    "# Create the RepeatedKFold object\n",
    "rkf = RepeatedKFold(n_splits=num_folds, n_repeats=num_repeats, random_state=1)\n",
    "\n",
    "# Perform Repeated K-Fold cross-validation\n",
    "for i, (train_index, test_index) in enumerate(rkf.split(X)):\n",
    "    print(f\"Fold: {(i % num_folds) + 1}, Repeat: {i // num_folds + 1}\")\n",
    "    \n",
    "    X_train, X_test = X.iloc[train_index], X.iloc[test_index]\n",
    "    y_train, y_test = y[train_index], y[test_index]\n",
    "    \n",
    "    # Scale the data\n",
    "    scaler = StandardScaler()\n",
    "    scaler = MinMaxScaler()\n",
    "    X_train_new = scaler.fit_transform(X_train)\n",
    "    X_test_new = scaler.transform(X_test)\n",
    "    \n",
    "    # Perform PCA\n",
    "    pca = PCA(n_components=20)\n",
    "    X_train_new = pca.fit_transform(X_train_new)\n",
    "    X_test_new = pca.transform(X_test_new)\n",
    "    \n",
    "    # Convert back to DataFrame\n",
    "    X_train_new = pd.DataFrame(X_train_new)\n",
    "    X_test_new = pd.DataFrame(X_test_new)\n",
    "    \n",
    "    # Add back indices\n",
    "    X_train_new.index = X_train.index\n",
    "    X_test_new.index = X_test.index\n",
    "    \n",
    "    # Instantiate RandomSurvivalForest object\n",
    "    rsf = RandomSurvivalForest()\n",
    "    rsf.fit(X_train_new, y_train)\n",
    "    \n",
    "    # Calculate and store the score\n",
    "    score = rsf.score(X_test_new, y_test)\n",
    "    scores.append(score)\n",
    "    \n",
    "    print(f\"Score: {score}\")\n",
    "    print(\"-----------------------------\")\n",
    "\n",
    "# Calculate mean and 95% confidence interval of the scores\n",
    "mean_score = np.mean(scores)\n",
    "\n",
    "print(f\"Mean Score: {mean_score}\")\n"
   ]
  },
  {
   "cell_type": "markdown",
   "id": "600b90a4",
   "metadata": {},
   "source": [
    "# GDB survival (ComponentwiseGradientBoostingSurvivalAnalysis)"
   ]
  },
  {
   "cell_type": "markdown",
   "id": "9ea66db3",
   "metadata": {},
   "source": [
    "#### 10 different cv with 5 folds"
   ]
  },
  {
   "cell_type": "code",
   "execution_count": 28,
   "id": "65d30b1c",
   "metadata": {},
   "outputs": [
    {
     "name": "stdout",
     "output_type": "stream",
     "text": [
      "Fold: 1, Repeat: 1\n",
      "Score: 0.656934306569343\n",
      "-----------------------------\n",
      "Fold: 2, Repeat: 1\n",
      "Score: 0.524390243902439\n",
      "-----------------------------\n",
      "Fold: 3, Repeat: 1\n",
      "Score: 0.659217877094972\n",
      "-----------------------------\n",
      "Fold: 4, Repeat: 1\n",
      "Score: 0.4293785310734463\n",
      "-----------------------------\n",
      "Fold: 5, Repeat: 1\n",
      "Score: 0.7043010752688172\n",
      "-----------------------------\n",
      "Fold: 1, Repeat: 2\n",
      "Score: 0.54\n",
      "-----------------------------\n",
      "Fold: 2, Repeat: 2\n",
      "Score: 0.4329268292682927\n",
      "-----------------------------\n",
      "Fold: 3, Repeat: 2\n",
      "Score: 0.6444444444444445\n",
      "-----------------------------\n",
      "Fold: 4, Repeat: 2\n",
      "Score: 0.5723270440251572\n",
      "-----------------------------\n",
      "Fold: 5, Repeat: 2\n",
      "Score: 0.3708609271523179\n",
      "-----------------------------\n",
      "Fold: 1, Repeat: 3\n",
      "Score: 0.5175438596491229\n",
      "-----------------------------\n",
      "Fold: 2, Repeat: 3\n",
      "Score: 0.6923076923076923\n",
      "-----------------------------\n",
      "Fold: 3, Repeat: 3\n",
      "Score: 0.5934065934065934\n",
      "-----------------------------\n",
      "Fold: 4, Repeat: 3\n",
      "Score: 0.577922077922078\n",
      "-----------------------------\n",
      "Fold: 5, Repeat: 3\n",
      "Score: 0.5585106382978723\n",
      "-----------------------------\n",
      "Fold: 1, Repeat: 4\n",
      "Score: 0.546448087431694\n",
      "-----------------------------\n",
      "Fold: 2, Repeat: 4\n",
      "Score: 0.6129032258064516\n",
      "-----------------------------\n",
      "Fold: 3, Repeat: 4\n",
      "Score: 0.6577181208053692\n",
      "-----------------------------\n",
      "Fold: 4, Repeat: 4\n",
      "Score: 0.6488095238095238\n",
      "-----------------------------\n",
      "Fold: 5, Repeat: 4\n",
      "Score: 0.6555555555555556\n",
      "-----------------------------\n",
      "Fold: 1, Repeat: 5\n",
      "Score: 0.5637254901960784\n",
      "-----------------------------\n",
      "Fold: 2, Repeat: 5\n",
      "Score: 0.6666666666666666\n",
      "-----------------------------\n",
      "Fold: 3, Repeat: 5\n",
      "Score: 0.6\n",
      "-----------------------------\n",
      "Fold: 4, Repeat: 5\n",
      "Score: 0.484472049689441\n",
      "-----------------------------\n",
      "Fold: 5, Repeat: 5\n",
      "Score: 0.5975609756097561\n",
      "-----------------------------\n",
      "Fold: 1, Repeat: 6\n",
      "Score: 0.6333333333333333\n",
      "-----------------------------\n",
      "Fold: 2, Repeat: 6\n",
      "Score: 0.5989583333333334\n",
      "-----------------------------\n",
      "Fold: 3, Repeat: 6\n",
      "Score: 0.65\n",
      "-----------------------------\n",
      "Fold: 4, Repeat: 6\n",
      "Score: 0.5443037974683544\n",
      "-----------------------------\n",
      "Fold: 5, Repeat: 6\n",
      "Score: 0.43103448275862066\n",
      "-----------------------------\n",
      "Fold: 1, Repeat: 7\n",
      "Score: 0.4696969696969697\n",
      "-----------------------------\n",
      "Fold: 2, Repeat: 7\n",
      "Score: 0.6271186440677966\n",
      "-----------------------------\n",
      "Fold: 3, Repeat: 7\n",
      "Score: 0.6783625730994152\n",
      "-----------------------------\n",
      "Fold: 4, Repeat: 7\n",
      "Score: 0.49645390070921985\n",
      "-----------------------------\n",
      "Fold: 5, Repeat: 7\n",
      "Score: 0.7191011235955056\n",
      "-----------------------------\n",
      "Fold: 1, Repeat: 8\n",
      "Score: 0.5112359550561798\n",
      "-----------------------------\n",
      "Fold: 2, Repeat: 8\n",
      "Score: 0.5608465608465608\n",
      "-----------------------------\n",
      "Fold: 3, Repeat: 8\n",
      "Score: 0.5913978494623656\n",
      "-----------------------------\n",
      "Fold: 4, Repeat: 8\n",
      "Score: 0.5234899328859061\n",
      "-----------------------------\n",
      "Fold: 5, Repeat: 8\n",
      "Score: 0.6369426751592356\n",
      "-----------------------------\n",
      "Fold: 1, Repeat: 9\n",
      "Score: 0.6727272727272727\n",
      "-----------------------------\n",
      "Fold: 2, Repeat: 9\n",
      "Score: 0.6614583333333334\n",
      "-----------------------------\n",
      "Fold: 3, Repeat: 9\n",
      "Score: 0.5748502994011976\n",
      "-----------------------------\n",
      "Fold: 4, Repeat: 9\n",
      "Score: 0.4691358024691358\n",
      "-----------------------------\n",
      "Fold: 5, Repeat: 9\n",
      "Score: 0.5714285714285714\n",
      "-----------------------------\n",
      "Fold: 1, Repeat: 10\n",
      "Score: 0.57\n",
      "-----------------------------\n",
      "Fold: 2, Repeat: 10\n",
      "Score: 0.544973544973545\n",
      "-----------------------------\n",
      "Fold: 3, Repeat: 10\n",
      "Score: 0.5625\n",
      "-----------------------------\n",
      "Fold: 4, Repeat: 10\n",
      "Score: 0.5620437956204379\n",
      "-----------------------------\n",
      "Fold: 5, Repeat: 10\n",
      "Score: 0.6779661016949152\n",
      "-----------------------------\n",
      "Mean Score: 0.5809538337814866\n"
     ]
    }
   ],
   "source": [
    "import numpy as np\n",
    "from sklearn.model_selection import RepeatedKFold\n",
    "from sklearn.preprocessing import StandardScaler, MinMaxScaler\n",
    "from sklearn.feature_selection import VarianceThreshold\n",
    "from sksurv.ensemble import ComponentwiseGradientBoostingSurvivalAnalysis\n",
    "from sklearn.decomposition import PCA\n",
    "\n",
    "X = merged_df.drop(['Duration', 'Event'], axis=1)  # keep as a dataframe\n",
    "y = merged_df[['Event','Duration']]\n",
    "\n",
    "#change y to array of tuples (Event, Duration)\n",
    "y = np.array([(bool(arr[0]), arr[1]) for arr in y.values], dtype=[('boolean', bool), ('integer', int)])\n",
    "\n",
    "# Define the number of folds, repeats and an empty list to store the scores\n",
    "num_folds = 5\n",
    "num_repeats = 10\n",
    "scores = []\n",
    "\n",
    "# Create the RepeatedKFold object\n",
    "rkf = RepeatedKFold(n_splits=num_folds, n_repeats=num_repeats, random_state=1)\n",
    "\n",
    "# Perform Repeated K-Fold cross-validation\n",
    "for i, (train_index, test_index) in enumerate(rkf.split(X)):\n",
    "    print(f\"Fold: {(i % num_folds) + 1}, Repeat: {i // num_folds + 1}\")\n",
    "    \n",
    "    X_train, X_test = X.iloc[train_index], X.iloc[test_index]\n",
    "    y_train, y_test = y[train_index], y[test_index]\n",
    "    \n",
    "    # Scale the data\n",
    "    scaler = StandardScaler()\n",
    "    X_train_new = scaler.fit_transform(X_train)\n",
    "    X_test_new = scaler.transform(X_test)\n",
    "    \n",
    "    # Perform PCA\n",
    "    pca = PCA(n_components=22)\n",
    "    X_train_new = pca.fit_transform(X_train_new)\n",
    "    X_test_new = pca.transform(X_test_new)\n",
    "    \n",
    "    # Convert back to DataFrame\n",
    "    X_train_new = pd.DataFrame(X_train_new)\n",
    "    X_test_new = pd.DataFrame(X_test_new)\n",
    "    \n",
    "    # Add back indices\n",
    "    X_train_new.index = X_train.index\n",
    "    X_test_new.index = X_test.index\n",
    "    \n",
    "    # Instantiate GB object\n",
    "    gdb = ComponentwiseGradientBoostingSurvivalAnalysis(loss=\"coxph\")\n",
    "    gdb.fit(X_train_new, y_train)\n",
    "    \n",
    "    # Calculate and store the score\n",
    "    score = gdb.score(X_test_new, y_test)\n",
    "    scores.append(score)\n",
    "    \n",
    "    print(f\"Score: {score}\")\n",
    "    print(\"-----------------------------\")\n",
    "\n",
    "# Calculate mean and 95% confidence interval of the scores\n",
    "mean_score = np.mean(scores)\n",
    "\n",
    "print(f\"Mean Score: {mean_score}\")"
   ]
  }
 ],
 "metadata": {
  "kernelspec": {
   "display_name": "Python 3 (ipykernel)",
   "language": "python",
   "name": "python3"
  },
  "language_info": {
   "codemirror_mode": {
    "name": "ipython",
    "version": 3
   },
   "file_extension": ".py",
   "mimetype": "text/x-python",
   "name": "python",
   "nbconvert_exporter": "python",
   "pygments_lexer": "ipython3",
   "version": "3.10.10"
  }
 },
 "nbformat": 4,
 "nbformat_minor": 5
}
